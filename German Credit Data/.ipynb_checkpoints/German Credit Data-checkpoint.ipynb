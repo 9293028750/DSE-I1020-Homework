{
 "cells": [
  {
   "cell_type": "code",
   "execution_count": 1,
   "metadata": {},
   "outputs": [],
   "source": [
    "import numpy as np\n",
    "import pandas as pd\n",
    "import matplotlib.pyplot as plt"
   ]
  },
  {
   "cell_type": "markdown",
   "metadata": {},
   "source": [
    "# Load data"
   ]
  },
  {
   "cell_type": "code",
   "execution_count": 2,
   "metadata": {},
   "outputs": [
    {
     "data": {
      "text/html": [
       "<div>\n",
       "<style scoped>\n",
       "    .dataframe tbody tr th:only-of-type {\n",
       "        vertical-align: middle;\n",
       "    }\n",
       "\n",
       "    .dataframe tbody tr th {\n",
       "        vertical-align: top;\n",
       "    }\n",
       "\n",
       "    .dataframe thead th {\n",
       "        text-align: right;\n",
       "    }\n",
       "</style>\n",
       "<table border=\"1\" class=\"dataframe\">\n",
       "  <thead>\n",
       "    <tr style=\"text-align: right;\">\n",
       "      <th></th>\n",
       "      <th>Status_of_existing_checking_account</th>\n",
       "      <th>Duration_in_month</th>\n",
       "      <th>Credit_history</th>\n",
       "      <th>Purpose</th>\n",
       "      <th>Credit_amount</th>\n",
       "      <th>Present_employment_since</th>\n",
       "      <th>Installment_rate_in_percentage_of_disposable_income</th>\n",
       "      <th>Personal_status_and_sex</th>\n",
       "      <th>Other_debtors</th>\n",
       "      <th>Present_residence_since</th>\n",
       "      <th>Property</th>\n",
       "      <th>Age_in_years</th>\n",
       "      <th>Other_installment_plans</th>\n",
       "      <th>Housing</th>\n",
       "      <th>Number_of_existing_credits_at_this_bank</th>\n",
       "      <th>Job</th>\n",
       "      <th>Number_of_people_being_liable_to_provide_maintenance_for</th>\n",
       "      <th>Telephone</th>\n",
       "      <th>foreign_worker</th>\n",
       "      <th>bad_or_good_credit_risk</th>\n",
       "    </tr>\n",
       "  </thead>\n",
       "  <tbody>\n",
       "    <tr>\n",
       "      <th>0</th>\n",
       "      <td>A11</td>\n",
       "      <td>6</td>\n",
       "      <td>A34</td>\n",
       "      <td>A43</td>\n",
       "      <td>1169</td>\n",
       "      <td>A65</td>\n",
       "      <td>A75</td>\n",
       "      <td>4</td>\n",
       "      <td>A93</td>\n",
       "      <td>A101</td>\n",
       "      <td>4</td>\n",
       "      <td>A121</td>\n",
       "      <td>67</td>\n",
       "      <td>A143</td>\n",
       "      <td>A152</td>\n",
       "      <td>2</td>\n",
       "      <td>A173</td>\n",
       "      <td>1</td>\n",
       "      <td>A192</td>\n",
       "      <td>A201</td>\n",
       "    </tr>\n",
       "    <tr>\n",
       "      <th>1</th>\n",
       "      <td>A12</td>\n",
       "      <td>48</td>\n",
       "      <td>A32</td>\n",
       "      <td>A43</td>\n",
       "      <td>5951</td>\n",
       "      <td>A61</td>\n",
       "      <td>A73</td>\n",
       "      <td>2</td>\n",
       "      <td>A92</td>\n",
       "      <td>A101</td>\n",
       "      <td>2</td>\n",
       "      <td>A121</td>\n",
       "      <td>22</td>\n",
       "      <td>A143</td>\n",
       "      <td>A152</td>\n",
       "      <td>1</td>\n",
       "      <td>A173</td>\n",
       "      <td>1</td>\n",
       "      <td>A191</td>\n",
       "      <td>A201</td>\n",
       "    </tr>\n",
       "    <tr>\n",
       "      <th>2</th>\n",
       "      <td>A14</td>\n",
       "      <td>12</td>\n",
       "      <td>A34</td>\n",
       "      <td>A46</td>\n",
       "      <td>2096</td>\n",
       "      <td>A61</td>\n",
       "      <td>A74</td>\n",
       "      <td>2</td>\n",
       "      <td>A93</td>\n",
       "      <td>A101</td>\n",
       "      <td>3</td>\n",
       "      <td>A121</td>\n",
       "      <td>49</td>\n",
       "      <td>A143</td>\n",
       "      <td>A152</td>\n",
       "      <td>1</td>\n",
       "      <td>A172</td>\n",
       "      <td>2</td>\n",
       "      <td>A191</td>\n",
       "      <td>A201</td>\n",
       "    </tr>\n",
       "    <tr>\n",
       "      <th>3</th>\n",
       "      <td>A11</td>\n",
       "      <td>42</td>\n",
       "      <td>A32</td>\n",
       "      <td>A42</td>\n",
       "      <td>7882</td>\n",
       "      <td>A61</td>\n",
       "      <td>A74</td>\n",
       "      <td>2</td>\n",
       "      <td>A93</td>\n",
       "      <td>A103</td>\n",
       "      <td>4</td>\n",
       "      <td>A122</td>\n",
       "      <td>45</td>\n",
       "      <td>A143</td>\n",
       "      <td>A153</td>\n",
       "      <td>1</td>\n",
       "      <td>A173</td>\n",
       "      <td>2</td>\n",
       "      <td>A191</td>\n",
       "      <td>A201</td>\n",
       "    </tr>\n",
       "    <tr>\n",
       "      <th>4</th>\n",
       "      <td>A11</td>\n",
       "      <td>24</td>\n",
       "      <td>A33</td>\n",
       "      <td>A40</td>\n",
       "      <td>4870</td>\n",
       "      <td>A61</td>\n",
       "      <td>A73</td>\n",
       "      <td>3</td>\n",
       "      <td>A93</td>\n",
       "      <td>A101</td>\n",
       "      <td>4</td>\n",
       "      <td>A124</td>\n",
       "      <td>53</td>\n",
       "      <td>A143</td>\n",
       "      <td>A153</td>\n",
       "      <td>2</td>\n",
       "      <td>A173</td>\n",
       "      <td>2</td>\n",
       "      <td>A191</td>\n",
       "      <td>A201</td>\n",
       "    </tr>\n",
       "  </tbody>\n",
       "</table>\n",
       "</div>"
      ],
      "text/plain": [
       "  Status_of_existing_checking_account  Duration_in_month Credit_history  \\\n",
       "0                                 A11                  6            A34   \n",
       "1                                 A12                 48            A32   \n",
       "2                                 A14                 12            A34   \n",
       "3                                 A11                 42            A32   \n",
       "4                                 A11                 24            A33   \n",
       "\n",
       "  Purpose  Credit_amount Present_employment_since  \\\n",
       "0     A43           1169                      A65   \n",
       "1     A43           5951                      A61   \n",
       "2     A46           2096                      A61   \n",
       "3     A42           7882                      A61   \n",
       "4     A40           4870                      A61   \n",
       "\n",
       "  Installment_rate_in_percentage_of_disposable_income  \\\n",
       "0                                                A75    \n",
       "1                                                A73    \n",
       "2                                                A74    \n",
       "3                                                A74    \n",
       "4                                                A73    \n",
       "\n",
       "   Personal_status_and_sex Other_debtors Present_residence_since  Property  \\\n",
       "0                        4           A93                    A101         4   \n",
       "1                        2           A92                    A101         2   \n",
       "2                        2           A93                    A101         3   \n",
       "3                        2           A93                    A103         4   \n",
       "4                        3           A93                    A101         4   \n",
       "\n",
       "  Age_in_years  Other_installment_plans Housing  \\\n",
       "0         A121                       67    A143   \n",
       "1         A121                       22    A143   \n",
       "2         A121                       49    A143   \n",
       "3         A122                       45    A143   \n",
       "4         A124                       53    A143   \n",
       "\n",
       "  Number_of_existing_credits_at_this_bank  Job  \\\n",
       "0                                    A152    2   \n",
       "1                                    A152    1   \n",
       "2                                    A152    1   \n",
       "3                                    A153    1   \n",
       "4                                    A153    2   \n",
       "\n",
       "  Number_of_people_being_liable_to_provide_maintenance_for  Telephone  \\\n",
       "0                                               A173                1   \n",
       "1                                               A173                1   \n",
       "2                                               A172                2   \n",
       "3                                               A173                2   \n",
       "4                                               A173                2   \n",
       "\n",
       "  foreign_worker bad_or_good_credit_risk  \n",
       "0           A192                    A201  \n",
       "1           A191                    A201  \n",
       "2           A191                    A201  \n",
       "3           A191                    A201  \n",
       "4           A191                    A201  "
      ]
     },
     "execution_count": 2,
     "metadata": {},
     "output_type": "execute_result"
    }
   ],
   "source": [
    "column_names = ['Status_of_existing_checking_account', 'Duration_in_month', 'Credit_history', 'Purpose', \n",
    "              'Credit_amount', 'Present_employment_since', 'Installment_rate_in_percentage_of_disposable_income',\n",
    "             'Personal_status_and_sex', 'Other_debtors', 'Present_residence_since', 'Property', 'Age_in_years',\n",
    "             'Other_installment_plans', 'Housing', 'Number_of_existing_credits_at_this_bank', 'Job', \n",
    "              'Number_of_people_being_liable_to_provide_maintenance_for', 'Telephone', 'foreign_worker','bad_or_good_credit_risk']\n",
    "df = pd.read_table(\"german.data\",sep=' ', names=column_names, index_col=False)\n",
    "df.head()"
   ]
  },
  {
   "cell_type": "code",
   "execution_count": 3,
   "metadata": {},
   "outputs": [
    {
     "name": "stdout",
     "output_type": "stream",
     "text": [
      "<class 'pandas.core.frame.DataFrame'>\n",
      "RangeIndex: 1000 entries, 0 to 999\n",
      "Data columns (total 20 columns):\n",
      "Status_of_existing_checking_account                         1000 non-null object\n",
      "Duration_in_month                                           1000 non-null int64\n",
      "Credit_history                                              1000 non-null object\n",
      "Purpose                                                     1000 non-null object\n",
      "Credit_amount                                               1000 non-null int64\n",
      "Present_employment_since                                    1000 non-null object\n",
      "Installment_rate_in_percentage_of_disposable_income         1000 non-null object\n",
      "Personal_status_and_sex                                     1000 non-null int64\n",
      "Other_debtors                                               1000 non-null object\n",
      "Present_residence_since                                     1000 non-null object\n",
      "Property                                                    1000 non-null int64\n",
      "Age_in_years                                                1000 non-null object\n",
      "Other_installment_plans                                     1000 non-null int64\n",
      "Housing                                                     1000 non-null object\n",
      "Number_of_existing_credits_at_this_bank                     1000 non-null object\n",
      "Job                                                         1000 non-null int64\n",
      "Number_of_people_being_liable_to_provide_maintenance_for    1000 non-null object\n",
      "Telephone                                                   1000 non-null int64\n",
      "foreign_worker                                              1000 non-null object\n",
      "bad_or_good_credit_risk                                     1000 non-null object\n",
      "dtypes: int64(7), object(13)\n",
      "memory usage: 156.3+ KB\n"
     ]
    }
   ],
   "source": [
    "df.info()"
   ]
  },
  {
   "cell_type": "markdown",
   "metadata": {},
   "source": [
    "# Clean data"
   ]
  },
  {
   "cell_type": "code",
   "execution_count": 4,
   "metadata": {},
   "outputs": [
    {
     "data": {
      "text/html": [
       "<div>\n",
       "<style scoped>\n",
       "    .dataframe tbody tr th:only-of-type {\n",
       "        vertical-align: middle;\n",
       "    }\n",
       "\n",
       "    .dataframe tbody tr th {\n",
       "        vertical-align: top;\n",
       "    }\n",
       "\n",
       "    .dataframe thead th {\n",
       "        text-align: right;\n",
       "    }\n",
       "</style>\n",
       "<table border=\"1\" class=\"dataframe\">\n",
       "  <thead>\n",
       "    <tr style=\"text-align: right;\">\n",
       "      <th></th>\n",
       "      <th>Status_of_existing_checking_account</th>\n",
       "      <th>Duration_in_month</th>\n",
       "      <th>Credit_history</th>\n",
       "      <th>Purpose</th>\n",
       "      <th>Credit_amount</th>\n",
       "      <th>Present_employment_since</th>\n",
       "      <th>Installment_rate_in_percentage_of_disposable_income</th>\n",
       "      <th>Personal_status_and_sex</th>\n",
       "      <th>Other_debtors</th>\n",
       "      <th>Present_residence_since</th>\n",
       "      <th>Property</th>\n",
       "      <th>Age_in_years</th>\n",
       "      <th>Other_installment_plans</th>\n",
       "      <th>Housing</th>\n",
       "      <th>Number_of_existing_credits_at_this_bank</th>\n",
       "      <th>Job</th>\n",
       "      <th>Number_of_people_being_liable_to_provide_maintenance_for</th>\n",
       "      <th>Telephone</th>\n",
       "      <th>foreign_worker</th>\n",
       "      <th>bad_or_good_credit_risk</th>\n",
       "    </tr>\n",
       "  </thead>\n",
       "  <tbody>\n",
       "    <tr>\n",
       "      <th>0</th>\n",
       "      <td>1</td>\n",
       "      <td>6</td>\n",
       "      <td>0</td>\n",
       "      <td>0</td>\n",
       "      <td>1169</td>\n",
       "      <td>0</td>\n",
       "      <td>0</td>\n",
       "      <td>4</td>\n",
       "      <td>0</td>\n",
       "      <td>1</td>\n",
       "      <td>4</td>\n",
       "      <td>1</td>\n",
       "      <td>67</td>\n",
       "      <td>0</td>\n",
       "      <td>0</td>\n",
       "      <td>2</td>\n",
       "      <td>0</td>\n",
       "      <td>1</td>\n",
       "      <td>0</td>\n",
       "      <td>1</td>\n",
       "    </tr>\n",
       "    <tr>\n",
       "      <th>1</th>\n",
       "      <td>0</td>\n",
       "      <td>48</td>\n",
       "      <td>0</td>\n",
       "      <td>0</td>\n",
       "      <td>5951</td>\n",
       "      <td>1</td>\n",
       "      <td>0</td>\n",
       "      <td>2</td>\n",
       "      <td>0</td>\n",
       "      <td>1</td>\n",
       "      <td>2</td>\n",
       "      <td>1</td>\n",
       "      <td>22</td>\n",
       "      <td>0</td>\n",
       "      <td>0</td>\n",
       "      <td>1</td>\n",
       "      <td>0</td>\n",
       "      <td>1</td>\n",
       "      <td>1</td>\n",
       "      <td>1</td>\n",
       "    </tr>\n",
       "    <tr>\n",
       "      <th>2</th>\n",
       "      <td>0</td>\n",
       "      <td>12</td>\n",
       "      <td>0</td>\n",
       "      <td>0</td>\n",
       "      <td>2096</td>\n",
       "      <td>1</td>\n",
       "      <td>0</td>\n",
       "      <td>2</td>\n",
       "      <td>0</td>\n",
       "      <td>1</td>\n",
       "      <td>3</td>\n",
       "      <td>1</td>\n",
       "      <td>49</td>\n",
       "      <td>0</td>\n",
       "      <td>0</td>\n",
       "      <td>1</td>\n",
       "      <td>0</td>\n",
       "      <td>2</td>\n",
       "      <td>1</td>\n",
       "      <td>1</td>\n",
       "    </tr>\n",
       "    <tr>\n",
       "      <th>3</th>\n",
       "      <td>1</td>\n",
       "      <td>42</td>\n",
       "      <td>0</td>\n",
       "      <td>0</td>\n",
       "      <td>7882</td>\n",
       "      <td>1</td>\n",
       "      <td>0</td>\n",
       "      <td>2</td>\n",
       "      <td>0</td>\n",
       "      <td>0</td>\n",
       "      <td>4</td>\n",
       "      <td>0</td>\n",
       "      <td>45</td>\n",
       "      <td>0</td>\n",
       "      <td>0</td>\n",
       "      <td>1</td>\n",
       "      <td>0</td>\n",
       "      <td>2</td>\n",
       "      <td>1</td>\n",
       "      <td>1</td>\n",
       "    </tr>\n",
       "    <tr>\n",
       "      <th>4</th>\n",
       "      <td>1</td>\n",
       "      <td>24</td>\n",
       "      <td>0</td>\n",
       "      <td>1</td>\n",
       "      <td>4870</td>\n",
       "      <td>1</td>\n",
       "      <td>0</td>\n",
       "      <td>3</td>\n",
       "      <td>0</td>\n",
       "      <td>1</td>\n",
       "      <td>4</td>\n",
       "      <td>0</td>\n",
       "      <td>53</td>\n",
       "      <td>0</td>\n",
       "      <td>0</td>\n",
       "      <td>2</td>\n",
       "      <td>0</td>\n",
       "      <td>2</td>\n",
       "      <td>1</td>\n",
       "      <td>1</td>\n",
       "    </tr>\n",
       "  </tbody>\n",
       "</table>\n",
       "</div>"
      ],
      "text/plain": [
       "   Status_of_existing_checking_account  Duration_in_month  Credit_history  \\\n",
       "0                                    1                  6               0   \n",
       "1                                    0                 48               0   \n",
       "2                                    0                 12               0   \n",
       "3                                    1                 42               0   \n",
       "4                                    1                 24               0   \n",
       "\n",
       "   Purpose  Credit_amount  Present_employment_since  \\\n",
       "0        0           1169                         0   \n",
       "1        0           5951                         1   \n",
       "2        0           2096                         1   \n",
       "3        0           7882                         1   \n",
       "4        1           4870                         1   \n",
       "\n",
       "   Installment_rate_in_percentage_of_disposable_income  \\\n",
       "0                                                  0     \n",
       "1                                                  0     \n",
       "2                                                  0     \n",
       "3                                                  0     \n",
       "4                                                  0     \n",
       "\n",
       "   Personal_status_and_sex  Other_debtors  Present_residence_since  Property  \\\n",
       "0                        4              0                        1         4   \n",
       "1                        2              0                        1         2   \n",
       "2                        2              0                        1         3   \n",
       "3                        2              0                        0         4   \n",
       "4                        3              0                        1         4   \n",
       "\n",
       "   Age_in_years  Other_installment_plans  Housing  \\\n",
       "0             1                       67        0   \n",
       "1             1                       22        0   \n",
       "2             1                       49        0   \n",
       "3             0                       45        0   \n",
       "4             0                       53        0   \n",
       "\n",
       "   Number_of_existing_credits_at_this_bank  Job  \\\n",
       "0                                        0    2   \n",
       "1                                        0    1   \n",
       "2                                        0    1   \n",
       "3                                        0    1   \n",
       "4                                        0    2   \n",
       "\n",
       "   Number_of_people_being_liable_to_provide_maintenance_for  Telephone  \\\n",
       "0                                                  0                 1   \n",
       "1                                                  0                 1   \n",
       "2                                                  0                 2   \n",
       "3                                                  0                 2   \n",
       "4                                                  0                 2   \n",
       "\n",
       "   foreign_worker  bad_or_good_credit_risk  \n",
       "0               0                        1  \n",
       "1               1                        1  \n",
       "2               1                        1  \n",
       "3               1                        1  \n",
       "4               1                        1  "
      ]
     },
     "execution_count": 4,
     "metadata": {},
     "output_type": "execute_result"
    }
   ],
   "source": [
    "# convey categorical into numeric\n",
    "df['Status_of_existing_checking_account'] = pd.get_dummies(df['Status_of_existing_checking_account'])\n",
    "df['Credit_history'] = pd.get_dummies(df['Credit_history'])\n",
    "df['Purpose'] = pd.get_dummies(df['Purpose'])\n",
    "df['Present_employment_since'] = pd.get_dummies(df['Present_employment_since'])\n",
    "df['Installment_rate_in_percentage_of_disposable_income'] = pd.get_dummies(df['Installment_rate_in_percentage_of_disposable_income'])\n",
    "df['Other_debtors'] = pd.get_dummies(df['Other_debtors'])\n",
    "df['Present_residence_since'] = pd.get_dummies(df['Present_residence_since'])\n",
    "df['Age_in_years'] = pd.get_dummies(df['Age_in_years'])\n",
    "df['Housing'] = pd.get_dummies(df['Housing'])\n",
    "df['Number_of_existing_credits_at_this_bank'] = pd.get_dummies(df['Number_of_existing_credits_at_this_bank'])\n",
    "df['Number_of_people_being_liable_to_provide_maintenance_for'] = pd.get_dummies(df['Number_of_people_being_liable_to_provide_maintenance_for'])\n",
    "df['foreign_worker'] = pd.get_dummies(df['foreign_worker'])\n",
    "df['bad_or_good_credit_risk'] = pd.get_dummies(df['bad_or_good_credit_risk'])\n",
    "df.head()"
   ]
  },
  {
   "cell_type": "code",
   "execution_count": 5,
   "metadata": {},
   "outputs": [
    {
     "name": "stdout",
     "output_type": "stream",
     "text": [
      "<class 'pandas.core.frame.DataFrame'>\n",
      "RangeIndex: 1000 entries, 0 to 999\n",
      "Data columns (total 20 columns):\n",
      "Status_of_existing_checking_account                         1000 non-null uint8\n",
      "Duration_in_month                                           1000 non-null int64\n",
      "Credit_history                                              1000 non-null uint8\n",
      "Purpose                                                     1000 non-null uint8\n",
      "Credit_amount                                               1000 non-null int64\n",
      "Present_employment_since                                    1000 non-null uint8\n",
      "Installment_rate_in_percentage_of_disposable_income         1000 non-null uint8\n",
      "Personal_status_and_sex                                     1000 non-null int64\n",
      "Other_debtors                                               1000 non-null uint8\n",
      "Present_residence_since                                     1000 non-null uint8\n",
      "Property                                                    1000 non-null int64\n",
      "Age_in_years                                                1000 non-null uint8\n",
      "Other_installment_plans                                     1000 non-null int64\n",
      "Housing                                                     1000 non-null uint8\n",
      "Number_of_existing_credits_at_this_bank                     1000 non-null uint8\n",
      "Job                                                         1000 non-null int64\n",
      "Number_of_people_being_liable_to_provide_maintenance_for    1000 non-null uint8\n",
      "Telephone                                                   1000 non-null int64\n",
      "foreign_worker                                              1000 non-null uint8\n",
      "bad_or_good_credit_risk                                     1000 non-null uint8\n",
      "dtypes: int64(7), uint8(13)\n",
      "memory usage: 67.5 KB\n"
     ]
    }
   ],
   "source": [
    "df.info()"
   ]
  },
  {
   "cell_type": "markdown",
   "metadata": {},
   "source": [
    "# ML task"
   ]
  },
  {
   "cell_type": "code",
   "execution_count": 11,
   "metadata": {},
   "outputs": [],
   "source": [
    "from sklearn import metrics\n",
    "from sklearn.neighbors import KNeighborsClassifier\n",
    "from sklearn.model_selection import train_test_split\n",
    "from sklearn.model_selection import GridSearchCV\n",
    "from sklearn.metrics import classification_report"
   ]
  },
  {
   "cell_type": "code",
   "execution_count": 12,
   "metadata": {},
   "outputs": [
    {
     "name": "stdout",
     "output_type": "stream",
     "text": [
      "             precision    recall  f1-score   support\n",
      "\n",
      "          0       0.00      0.00      0.00         4\n",
      "          1       0.99      1.00      0.99       326\n",
      "\n",
      "avg / total       0.98      0.99      0.98       330\n",
      "\n"
     ]
    },
    {
     "name": "stderr",
     "output_type": "stream",
     "text": [
      "/Library/Frameworks/Python.framework/Versions/3.6/lib/python3.6/site-packages/sklearn/metrics/classification.py:1135: UndefinedMetricWarning: Precision and F-score are ill-defined and being set to 0.0 in labels with no predicted samples.\n",
      "  'precision', 'predicted', average, warn_for)\n"
     ]
    }
   ],
   "source": [
    "X = df[df.columns[df.columns!='bad_or_good_credit_risk']]\n",
    "y = np.array(df['bad_or_good_credit_risk'])\n",
    "X_train, X_test, y_train, y_test = train_test_split(X, y, test_size=0.33,random_state=40)\n",
    "knn = KNeighborsClassifier(n_neighbors=5)\n",
    "knn.fit(X_train, y_train)\n",
    "y_pred = knn.predict(X_test)\n",
    "print(classification_report(y_test, y_pred))"
   ]
  },
  {
   "cell_type": "markdown",
   "metadata": {},
   "source": [
    "# Evaluate"
   ]
  },
  {
   "cell_type": "code",
   "execution_count": 13,
   "metadata": {},
   "outputs": [
    {
     "data": {
      "text/plain": [
       "0.9878787878787879"
      ]
     },
     "execution_count": 13,
     "metadata": {},
     "output_type": "execute_result"
    }
   ],
   "source": [
    "knn.score(X_test, y_test)"
   ]
  },
  {
   "cell_type": "markdown",
   "metadata": {},
   "source": [
    "# Optimize Parameters "
   ]
  },
  {
   "cell_type": "code",
   "execution_count": 14,
   "metadata": {},
   "outputs": [
    {
     "name": "stdout",
     "output_type": "stream",
     "text": [
      "{'n_neighbors': 5}\n",
      "0.9507462686567164\n"
     ]
    }
   ],
   "source": [
    "# tuning parameter in order to get best performance\n",
    "param_grid = {'n_neighbors': np.arange(1,25)}\n",
    "knn_cv = GridSearchCV(knn, param_grid, cv=5)\n",
    "knn_cv.fit(X_train, y_train)\n",
    "print(knn_cv.best_params_)\n",
    "print(knn_cv.best_score_)"
   ]
  },
  {
   "cell_type": "code",
   "execution_count": 20,
   "metadata": {},
   "outputs": [],
   "source": [
    "from sklearn.linear_model import LogisticRegression\n",
    "import seaborn as sns\n",
    "from sklearn import metrics"
   ]
  },
  {
   "cell_type": "code",
   "execution_count": 17,
   "metadata": {},
   "outputs": [],
   "source": [
    "logisticRegr = LogisticRegression()\n",
    "logisticRegr.fit(X_train, y_train)\n",
    "predictions = logisticRegr.predict(X_test)"
   ]
  },
  {
   "cell_type": "code",
   "execution_count": 18,
   "metadata": {},
   "outputs": [
    {
     "name": "stdout",
     "output_type": "stream",
     "text": [
      "0.9878787878787879\n"
     ]
    }
   ],
   "source": [
    "score = logisticRegr.score(X_test, y_test)\n",
    "print(score)"
   ]
  },
  {
   "cell_type": "code",
   "execution_count": 21,
   "metadata": {},
   "outputs": [
    {
     "name": "stdout",
     "output_type": "stream",
     "text": [
      "[[  1   3]\n",
      " [  1 325]]\n"
     ]
    }
   ],
   "source": [
    "cm = metrics.confusion_matrix(y_test, predictions)\n",
    "print(cm)"
   ]
  },
  {
   "cell_type": "code",
   "execution_count": 22,
   "metadata": {},
   "outputs": [
    {
     "data": {
      "image/png": "[encoded data removed]",
      "text/plain": [
       "<matplotlib.figure.Figure at 0x1177d9438>"
      ]
     },
     "metadata": {},
     "output_type": "display_data"
    }
   ],
   "source": [
    "plt.figure(figsize=(9,9))\n",
    "sns.heatmap(cm, annot=True, fmt=\".3f\", linewidths=.5, square = True, cmap = 'Blues_r');\n",
    "plt.ylabel('Actual label');\n",
    "plt.xlabel('Predicted label');\n",
    "all_sample_title = 'Accuracy Score: {0}'.format(score)\n",
    "plt.title(all_sample_title, size = 15);"
   ]
  },
  {
   "cell_type": "code",
   "execution_count": null,
   "metadata": {},
   "outputs": [],
   "source": []
  }
 ],
 "metadata": {
  "kernelspec": {
   "display_name": "Python 3",
   "language": "python",
   "name": "python3"
  },
  "language_info": {
   "codemirror_mode": {
    "name": "ipython",
    "version": 3
   },
   "file_extension": ".py",
   "mimetype": "text/x-python",
   "name": "python",
   "nbconvert_exporter": "python",
   "pygments_lexer": "ipython3",
   "version": "3.6.3"
  }
 },
 "nbformat": 4,
 "nbformat_minor": 2
}
